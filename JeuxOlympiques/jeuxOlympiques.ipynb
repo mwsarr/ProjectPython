{
 "cells": [
  {
   "cell_type": "code",
   "execution_count": 1,
   "id": "5ebbd9e5",
   "metadata": {},
   "outputs": [],
   "source": [
    "import pandas as pd "
   ]
  },
  {
   "cell_type": "code",
   "execution_count": 2,
   "id": "274648b3",
   "metadata": {},
   "outputs": [],
   "source": [
    "import pandas as pd \n",
    "path = 'C:/Users/Sarr Michel/Desktop/PythonForDS/Donnees/JeuxOlympiques/'\n",
    "athletes = pd.read_csv(path+'athlete_events.csv') \n",
    "regions = pd.read_csv(path+'noc_regions.csv')"
   ]
  },
  {
   "cell_type": "code",
   "execution_count": 9,
   "id": "84fad810",
   "metadata": {},
   "outputs": [],
   "source": [
    "!git add ."
   ]
  },
  {
   "cell_type": "code",
   "execution_count": 11,
   "id": "b838c696",
   "metadata": {},
   "outputs": [],
   "source": [
    "!git add jeuxOlympiques.ipynb"
   ]
  },
  {
   "cell_type": "code",
   "execution_count": 12,
   "id": "450d9543",
   "metadata": {},
   "outputs": [
    {
     "name": "stdout",
     "output_type": "stream",
     "text": [
      "[main 6a60236] 'jO86'\n",
      " 2 files changed, 73 insertions(+)\n",
      " create mode 100644 JeuxOlympiques/.ipynb_checkpoints/jeuxOlympiques-checkpoint.ipynb\n",
      " create mode 100644 JeuxOlympiques/jeuxOlympiques.ipynb\n"
     ]
    }
   ],
   "source": [
    "!git commit -m 'jO86'"
   ]
  },
  {
   "cell_type": "code",
   "execution_count": 13,
   "id": "fd249ed5",
   "metadata": {},
   "outputs": [
    {
     "name": "stderr",
     "output_type": "stream",
     "text": [
      "To https://github.com/mwsarr/ProjectPython.git\n",
      "   5869663..6a60236  main -> main\n"
     ]
    }
   ],
   "source": [
    "!git push \n"
   ]
  },
  {
   "cell_type": "code",
   "execution_count": null,
   "id": "b42fce75",
   "metadata": {},
   "outputs": [],
   "source": [
    " "
   ]
  }
 ],
 "metadata": {
  "kernelspec": {
   "display_name": "Python 3 (ipykernel)",
   "language": "python",
   "name": "python3"
  },
  "language_info": {
   "codemirror_mode": {
    "name": "ipython",
    "version": 3
   },
   "file_extension": ".py",
   "mimetype": "text/x-python",
   "name": "python",
   "nbconvert_exporter": "python",
   "pygments_lexer": "ipython3",
   "version": "3.9.13"
  }
 },
 "nbformat": 4,
 "nbformat_minor": 5
}
