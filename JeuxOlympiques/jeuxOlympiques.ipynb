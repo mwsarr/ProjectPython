{
 "cells": [
  {
   "cell_type": "code",
   "execution_count": 1,
   "id": "074b2cd7",
   "metadata": {},
   "outputs": [],
   "source": [
    "import pandas as pd "
   ]
  },
  {
   "cell_type": "code",
   "execution_count": 2,
   "id": "18b2e927",
   "metadata": {},
   "outputs": [],
   "source": [
    "path = 'C:/Users/Sarr Michel/Desktop/PythonForDS/Donnees/JeuxOlympiques/'\n",
    "athletes = pd.read_csv(path+'athlete_events.csv') \n",
    "regions = pd.read_csv(path+'noc_regions.csv')"
   ]
  },
  {
   "cell_type": "code",
   "execution_count": 9,
   "id": "746e8ded",
   "metadata": {},
   "outputs": [],
   "source": [
    "!git add ."
   ]
  },
  {
   "cell_type": "code",
   "execution_count": null,
   "id": "7b9963aa",
   "metadata": {},
   "outputs": [],
   "source": [
    "!git"
   ]
  }
 ],
 "metadata": {
  "kernelspec": {
   "display_name": "Python 3 (ipykernel)",
   "language": "python",
   "name": "python3"
  },
  "language_info": {
   "codemirror_mode": {
    "name": "ipython",
    "version": 3
   },
   "file_extension": ".py",
   "mimetype": "text/x-python",
   "name": "python",
   "nbconvert_exporter": "python",
   "pygments_lexer": "ipython3",
   "version": "3.9.13"
  }
 },
 "nbformat": 4,
 "nbformat_minor": 5
}
